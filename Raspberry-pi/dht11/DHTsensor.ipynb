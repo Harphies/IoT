{
 "cells": [
  {
   "cell_type": "code",
   "execution_count": 1,
   "metadata": {},
   "outputs": [],
   "source": [
    "# A dht11 sensor to read temperature and humidity"
   ]
  },
  {
   "cell_type": "code",
   "execution_count": null,
   "metadata": {},
   "outputs": [],
   "source": [
    "import Adafruit_DHT\n",
    "\n",
    "# declare the sensor type\n",
    "sensor = Adafruit_DHT.DHT11\n",
    "\n",
    "# connect the sensor to a GPIO pin\n",
    "gpio = 17\n",
    "\n",
    "# Read the temperature and Humidity data\n",
    "humidity, temperature = Adafruit_DHT.read_retry(sensor,gpio)\n",
    "\n",
    "# data validation\n",
    "if humidity is not None and temperature is not None:\n",
    "    print('Temp={0:0.1f}*C  Humidity={1:0.1f}%'.format(temperaature, humidity))\n",
    "else:\n",
    "    print('Failed to get Readings. Try again')"
   ]
  }
 ],
 "metadata": {
  "kernelspec": {
   "display_name": "Python 3",
   "language": "python",
   "name": "python3"
  },
  "language_info": {
   "codemirror_mode": {
    "name": "ipython",
    "version": 3
   },
   "file_extension": ".py",
   "mimetype": "text/x-python",
   "name": "python",
   "nbconvert_exporter": "python",
   "pygments_lexer": "ipython3",
   "version": "3.6.7"
  }
 },
 "nbformat": 4,
 "nbformat_minor": 2
}
